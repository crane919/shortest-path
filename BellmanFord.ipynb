{
 "cells": [
  {
   "cell_type": "markdown",
   "metadata": {},
   "source": [
    "# Bellman-Ford Algorithm\n",
    "\n",
    "The Bellman-Ford algorithm is a versatile and fundamental algorithm in graph theory used to find the shortest paths from a single source node to all other nodes in a weighted graph. What distinguishes Bellman-Ford is its ability to handle graphs with negative edge weights, making it applicable in a broader range of scenarios compared to algorithms like Dijkstra's. Additionally Bellman-Ford is guaranteed to find the shortest possible path in a graph, since it's not a greedy algorithm. Although this does mean that Bellman-Ford is a slower algorithm than Dijkstra’s and also more space-intensive than A*.\n",
    "\n",
    "The algorithm begins by initializing the distances to all nodes from the source node as infinity, except for the source itself, which is set to zero. It then iteratively relaxes the edges, reducing the estimated distance to each node by identifying shorter paths. This process is repeated for the number of vertices minus one iterations, ensuring the algorithm converges to the correct shortest paths. While Bellman-Ford may be less efficient than some alternatives, its robustness in handling various graph types makes it a valuable tool in solving a wide array of pathfinding problems."
   ]
  },
  {
   "cell_type": "markdown",
   "metadata": {},
   "source": [
    "## Bellman-Ford algorithm steps:\n",
    "\n",
    "- Create table where shortest distance from start node to other nodes is recorded\n",
    "- To start, input distance from starting node to each node into the table\n",
    "    - Starting node = 0, all others = ∞\n",
    "- Iterate through vertices -1 times\n",
    "    - Iterate through each vertex\n",
    "    - Checks if current distance on the table isn’t infinity\n",
    "        - Loops through each neighbor and checks if the distance to travel to the current node + distance between current node and neighbor is shorter than the neighbor’s previously recorded shortest distance\n",
    "\n"
   ]
  },
  {
   "cell_type": "code",
   "execution_count": 6,
   "metadata": {},
   "outputs": [],
   "source": [
    "from math import inf\n",
    "from visualization import visualize_graph\n",
    "\n",
    "class graph_vertex:\n",
    "  def __init__(self, name, x, y):\n",
    "    self.name = name\n",
    "    self.position = (x, y)\n",
    "\n",
    "# Set up example graph\n",
    "a = graph_vertex(\"A\", 0, 2)\n",
    "b = graph_vertex(\"B\", 1, 4)\n",
    "c = graph_vertex(\"C\", 1, 1)\n",
    "d = graph_vertex(\"D\", 2, 2)\n",
    "e = graph_vertex(\"E\", 4, 1)\n",
    "f = graph_vertex(\"F\", 5, 3)\n",
    "g = graph_vertex(\"G\", 6, 1)\n",
    "\n",
    "euclidean_graph = {\n",
    "  a: set([(b, 3), (c, 4)]),\n",
    "  b: set([(a, 3), (d, 5)]),\n",
    "  c: set([(a, 4), (d, 7)]),\n",
    "  d: set([(b, 5), (c, 7), (e, 9), (f, 8)]),\n",
    "  e: set([(d, 8), (g, 6), (f, 3)]),\n",
    "  f: set([(d, 9), (g, 4), (e, 3)]),\n",
    "  g: set([(e, 6), (f, 4)])\n",
    "}"
   ]
  },
  {
   "cell_type": "code",
   "execution_count": 4,
   "metadata": {},
   "outputs": [
    {
     "name": "stdout",
     "output_type": "stream",
     "text": [
      "This is the shortest path from A to E:\n",
      "['A', 'B', 'D', 'E']\n",
      "Shortest Distance from A to\n",
      "A: 0 | Previous node: A\n",
      "B: 3 | Previous node: A\n",
      "C: 4 | Previous node: A\n",
      "D: 8 | Previous node: B\n",
      "E: 17 | Previous node: D\n",
      "F: 16 | Previous node: D\n",
      "G: 20 | Previous node: F\n"
     ]
    }
   ],
   "source": [
    "def BellmanFord(graph, start):\n",
    "    \"\"\"\n",
    "    Applies the Bellman-Ford algorithm to find the shortest paths from a starting vertex in a weighted graph.\n",
    "\n",
    "    Parameters:\n",
    "    - graph (dict): A dictionary representing the weighted graph where keys are vertices and values are lists\n",
    "                    of neighboring vertices along with corresponding edge weights.\n",
    "    - start: The starting vertex for finding shortest paths.\n",
    "\n",
    "    Returns:\n",
    "    - dict: A dictionary containing the shortest distances and predecessors for each vertex.\n",
    "            Format: {vertex: [shortest_distance, predecessor]}\n",
    "    \"\"\"\n",
    "\n",
    "    # Initialize distances dictionary with infinity for all vertices and None as predecessors\n",
    "    distances = {vertex: [float(\"Inf\"), None] for vertex in graph}\n",
    "\n",
    "    # Set the distance to the start vertex as 0\n",
    "    distances[start][0] = 0\n",
    "    distances[start][1] = start\n",
    "\n",
    "    # Iterate through vertices - 1 times (V-1 iterations)\n",
    "    for _ in range(len(graph) - 1):\n",
    "        # Iterate through each vertex and its neighbors\n",
    "        for current_vertex, neighbors in graph.items():\n",
    "            # Check if the distance to the current vertex is not infinity\n",
    "            if distances[current_vertex][0] != float(\"Inf\"):\n",
    "                # Iterate through neighbors and update distances if a shorter path is found\n",
    "                for neighbor, edge_weight in neighbors:\n",
    "                    if distances[current_vertex][0] + edge_weight < distances[neighbor][0]:\n",
    "                        distances[neighbor][0] = distances[current_vertex][0] + edge_weight\n",
    "                        distances[neighbor][1] = current_vertex\n",
    "\n",
    "    return distances\n",
    "\n",
    "\n",
    "\n",
    "def path(distances, start, target):\n",
    "    \"\"\"\n",
    "    Reconstruct the shortest path from a starting vertex to a target vertex using Bellman-Ford's algorithm.\n",
    "\n",
    "    Parameters:\n",
    "    - distances (dict): A dictionary containing the shortest distances and predecessors obtained from Bellman-Ford's algorithm.\n",
    "    - start: The starting vertex of the path.\n",
    "    - target: The target vertex of the path.\n",
    "\n",
    "    Returns:\n",
    "    - list: A list representing the shortest path from the start vertex to the target vertex.\n",
    "    \"\"\"\n",
    "    print(f\"This is the shortest path from {start.name} to {target.name}:\")\n",
    "\n",
    "    # Initialize the path with the target vertex\n",
    "    path = [target.name]\n",
    "\n",
    "    # Trace back the path from the target to the start using predecessors in distances\n",
    "    curr = target\n",
    "    while True:\n",
    "        curr = distances[curr][1]  # Move to the predecessor\n",
    "        path = [curr.name] + path  # Add the current vertex to the path\n",
    "        if curr.name == start.name:  # Break the loop when the start vertex is reached\n",
    "            break\n",
    "    return path\n",
    "\n",
    "distances_from_a = BellmanFord(euclidean_graph, a)\n",
    "path_from_a_to_g = path(distances_from_a, a, e)\n",
    "print(path_from_a_to_g)\n",
    "\n",
    "print(\"Shortest Distance from A to\")\n",
    "for key, value in distances_from_a.items():\n",
    "  print(f\"{key.name}: {value[0]} | Previous node: {value[1].name}\")\n"
   ]
  },
  {
   "cell_type": "code",
   "execution_count": 15,
   "metadata": {},
   "outputs": [
    {
     "name": "stdout",
     "output_type": "stream",
     "text": [
      "\n"
     ]
    },
    {
     "data": {
      "image/png": "[encoded data removed]",
      "text/plain": [
       "<Figure size 640x480 with 1 Axes>"
      ]
     },
     "metadata": {},
     "output_type": "display_data"
    }
   ],
   "source": [
    "def create_edge_dict(graph):\n",
    "  \"\"\"\n",
    "    Converts a graph into a dictionary for edge visualization.\n",
    "\n",
    "    Parameters:\n",
    "        graph (dict): A dictionary representing the graph.\n",
    "\n",
    "    Returns:\n",
    "        dict: A dictionary where keys are tuples (start_vertex_name, end_vertex_name) and values are edge weights.\n",
    "  \"\"\"\n",
    "  edge_dict = {}\n",
    "  for key, connections in graph.items():\n",
    "    for conn in connections:\n",
    "        edge_dict[(key.name, conn[0].name)] = conn[1]\n",
    "            \n",
    "  return edge_dict\n",
    "\n",
    "# Visualization of the graph\n",
    "graph_edge_dict = create_edge_dict(euclidean_graph)\n",
    "print()\n",
    "visualize_graph(graph_edge_dict, path_from_a_to_g)"
   ]
  },
  {
   "cell_type": "markdown",
   "metadata": {},
   "source": [
    "## Time Complexity Breakdown\n",
    "\n",
    "**1. Initialization of distances dictionary:**\n",
    "- Loop through every node and add it to the distance dictionary\n",
    "- Time complexity: O(V), where V is the number of vertices in the graph.\n",
    "\n",
    "**2. Initialize the starting node**\n",
    "- This sets the distance to the start vertex as 0 in the distances dictionary.\n",
    "    - Referencing and editing values in a dictionary (hashmap) takes O(1) \n",
    "- Time complexity: O(1)\n",
    "\n",
    "**3. Outer loop V-1**\n",
    "- The outer loop runs V-1 times, where V is the number of vertices.\n",
    "    - Simplifies from V-1 to V\n",
    "- Time complexity: O(V).\n",
    "\n",
    "**4. Middle loop (Iterating through vertices):**\n",
    "- Time complexity: O(V).\n",
    "\n",
    "**5. Inner loop( (Iterating through neighbors)):**\n",
    "- This loop iterates through the neighbors of the current vertex.\n",
    "- Time complexity: O(E), where E is the number of edges in the graph.\n",
    "\n",
    "**6. Operations inside the innermost loop:**\n",
    "- These operations involve constant time.\n",
    "- Time complexity: O(1).\n",
    "\n",
    "**7. Find the shortest path from the distance dictionary (path function)**\n",
    "- The while loop runs in proportion to the length of the shortest path from the start to the target vertex. \n",
    "    - In the worst case, the length of the shortest path is V, where V is the number of vertices.\n",
    "- Each iteration of the loop involves constant time operations.\n",
    "- Time complexity: O(V)\n",
    "\n",
    "The outer loop runs for V-1 iterations (where V is the number of vertices). Each iteration of the outer loop processes all edges in the graph, resulting in a total of E iterations for the innermost loop (where E is the number of edges). Therefore, the time complexity of the BellmanFord function is O(V * E)."
   ]
  },
  {
   "cell_type": "markdown",
   "metadata": {},
   "source": [
    "## Sources:\n",
    "\n",
    "GeeksforGeeks. \"Bellman-Ford Algorithm.\" GeeksforGeeks, https://www.geeksforgeeks.org/bellman-ford-algorithm-dp-23/.\n",
    "\n",
    "GeeksforGeeks. \"Comparison between Shortest Path Algorithms.\" GeeksforGeeks, https://www.geeksforgeeks.org/comparison-between-shortest-path-algorithms/.s/"
   ]
  }
 ],
 "metadata": {
  "kernelspec": {
   "display_name": "Python 3",
   "language": "python",
   "name": "python3"
  },
  "language_info": {
   "codemirror_mode": {
    "name": "ipython",
    "version": 3
   },
   "file_extension": ".py",
   "mimetype": "text/x-python",
   "name": "python",
   "nbconvert_exporter": "python",
   "pygments_lexer": "ipython3",
   "version": "3.11.4"
  }
 },
 "nbformat": 4,
 "nbformat_minor": 2
}
