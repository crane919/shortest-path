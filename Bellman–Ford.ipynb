{
 "cells": [
  {
   "cell_type": "markdown",
   "metadata": {},
   "source": [
    "Sources:\n"
   ]
  },
  {
   "cell_type": "markdown",
   "metadata": {},
   "source": [
    "- Explain what the idea of this algorithm is\n",
    "- Explain the general steps of this algorithm\n",
    "- Say what the time complexity is "
   ]
  },
  {
   "cell_type": "markdown",
   "metadata": {},
   "source": [
    "### Bellman–Ford algorithm steps:\n",
    "\n",
    "1. \n",
    "2.\n",
    "3.\n"
   ]
  },
  {
   "cell_type": "code",
   "execution_count": null,
   "metadata": {},
   "outputs": [],
   "source": [
    "print(\"hi\")"
   ]
  },
  {
   "cell_type": "code",
   "execution_count": 1,
   "metadata": {},
   "outputs": [
    {
     "name": "stdout",
     "output_type": "stream",
     "text": [
      "Vertex Distance from Source\n",
      "0\t\t0\n",
      "1\t\t-1\n",
      "2\t\t2\n",
      "3\t\t-2\n",
      "4\t\t1\n"
     ]
    }
   ],
   "source": [
    "\n",
    "class Graph:\n",
    "\n",
    "\tdef __init__(self, vertices):\n",
    "\t\tself.V = vertices # No. of vertices\n",
    "\t\tself.graph = []\n",
    "\n",
    "\t# function to add an edge to graph\n",
    "\tdef addEdge(self, u, v, w):\n",
    "\t\tself.graph.append([u, v, w])\n",
    "\n",
    "\t# utility function used to print the solution\n",
    "\tdef printArr(self, dist):\n",
    "\t\tprint(\"Vertex Distance from Source\")\n",
    "\t\tfor i in range(self.V):\n",
    "\t\t\tprint(\"{0}\\t\\t{1}\".format(i, dist[i]))\n",
    "\n",
    "\t# The main function that finds shortest distances from src to\n",
    "\t# all other vertices using Bellman-Ford algorithm. The function\n",
    "\t# also detects negative weight cycle\n",
    "\tdef BellmanFord(self, src):\n",
    "\n",
    "\t\t# Step 1: Initialize distances from src to all other vertices\n",
    "\t\t# as INFINITE\n",
    "\t\tdist = [float(\"Inf\")] * self.V\n",
    "\t\tdist[src] = 0\n",
    "\n",
    "\t\t# Step 2: Relax all edges |V| - 1 times. A simple shortest\n",
    "\t\t# path from src to any other vertex can have at-most |V| - 1\n",
    "\t\t# edges\n",
    "\t\tfor _ in range(self.V - 1):\n",
    "\t\t\t# Update dist value and parent index of the adjacent vertices of\n",
    "\t\t\t# the picked vertex. Consider only those vertices which are still in\n",
    "\t\t\t# queue\n",
    "\t\t\tfor u, v, w in self.graph:\n",
    "\t\t\t\tif dist[u] != float(\"Inf\") and dist[u] + w < dist[v]:\n",
    "\t\t\t\t\tdist[v] = dist[u] + w\n",
    "\n",
    "\t\t# Step 3: check for negative-weight cycles. The above step\n",
    "\t\t# guarantees shortest distances if graph doesn't contain\n",
    "\t\t# negative weight cycle. If we get a shorter path, then there\n",
    "\t\t# is a cycle.\n",
    "\n",
    "\t\tfor u, v, w in self.graph:\n",
    "\t\t\tif dist[u] != float(\"Inf\") and dist[u] + w < dist[v]:\n",
    "\t\t\t\tprint(\"Graph contains negative weight cycle\")\n",
    "\t\t\t\treturn\n",
    "\n",
    "\t\t# print all distance\n",
    "\t\tself.printArr(dist)\n",
    "\n",
    "\n",
    "# Driver's code\n",
    "if __name__ == '__main__':\n",
    "\tg = Graph(5)\n",
    "\tg.addEdge(0, 1, -1)\n",
    "\tg.addEdge(0, 2, 4)\n",
    "\tg.addEdge(1, 2, 3)\n",
    "\tg.addEdge(1, 3, 2)\n",
    "\tg.addEdge(1, 4, 2)\n",
    "\tg.addEdge(3, 2, 5)\n",
    "\tg.addEdge(3, 1, 1)\n",
    "\tg.addEdge(4, 3, -3)\n",
    "\n",
    "\t# function call\n",
    "\tg.BellmanFord(0)\n"
   ]
  },
  {
   "cell_type": "markdown",
   "metadata": {},
   "source": [
    "## Time Complexity Breakdown\n",
    "\n"
   ]
  }
 ],
 "metadata": {
  "kernelspec": {
   "display_name": "Python 3",
   "language": "python",
   "name": "python3"
  },
  "language_info": {
   "codemirror_mode": {
    "name": "ipython",
    "version": 3
   },
   "file_extension": ".py",
   "mimetype": "text/x-python",
   "name": "python",
   "nbconvert_exporter": "python",
   "pygments_lexer": "ipython3",
<<<<<<< HEAD
   "version": "3.11.4"
=======
   "version": "3.11.6"
>>>>>>> d9a11e684a5c55d664f10d4504de2ef1b4370a8b
  }
 },
 "nbformat": 4,
 "nbformat_minor": 2
}
