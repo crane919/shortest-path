{
 "cells": [
  {
   "cell_type": "markdown",
   "metadata": {},
   "source": [
    "# Works Cited\n",
    "\n",
    "Adithjrajeev. “A Comparison of the 3 Shortest Path Algorithms.” Medium, 30 Nov. 2021, medium.com/@adithjrajeev/a-comparison-of-the-3-shortest-path-algorithms-b49f02736901. Accessed 11 Dec. 2023.\n",
    "\n",
    "&nbsp;&nbsp;&nbsp;&nbsp; This source helped us create our slide that compares and contrasts different shortest path algorithms. It also helped us understand space complexity and time complexity.\n",
    "\n",
    "Belwariar, Rachit . “A* Search Algorithm - GeeksforGeeks.” GeeksforGeeks, 7 Sept. 2018, www.geeksforgeeks.org/a-search-algorithm/ .\n",
    "\n",
    "&nbsp;&nbsp;&nbsp;&nbsp; This webpage was a great introduction to the A* algorithm and helped us with both understanding how it works and how to implement the algorithm into code.\n",
    "\n",
    "Chumbley, Alex, et al. “Bellman-Ford Algorithm | Brilliant Math & Science Wiki.” Brilliant.org, 2020, brilliant.org/wiki/bellman-ford-algorithm/.\n",
    "\n",
    "&nbsp;&nbsp;&nbsp;&nbsp; This webpage was a great introduction to the Bellman Ford algorithm which helped us understand, write about, and eventually implement the algorithm.\n",
    "\n",
    "Chumbley, Alex, “Shortest Path Algorithms | Brilliant Math & Science Wiki.” Brilliant.org, 2019, brilliant.org/wiki/shortest-path-algorithms/.\n",
    "\n",
    "&nbsp;&nbsp;&nbsp;&nbsp; This webpage is an overall introduction to shortest path algorithms. It informed us on the real world uses of shortest path algorithms and gave us a brief overview of different algorithms.\n",
    "\n",
    "“Comparison between Shortest Path Algorithms”: GeeksforGeeks, 13 Oct. 2023, www.geeksforgeeks.org/comparison-between-shortest-path-algorithms/. Accessed 11 Dec. 2023.\n",
    "\n",
    "&nbsp;&nbsp;&nbsp;&nbsp; Like a previously mentioned source, this source helped us create our slide that compares and contrasts different shortest path algorithms. It also helped us understand space complexity and time complexity.\n",
    "\n",
    "“Find Shortest Paths from Source to All Vertices Using Dijkstra’s Algorithm.” GeeksforGeeks, 25 Nov. 2012, www.geeksforgeeks.org/dijkstras-shortest-path-algorithm-greedy-algo-7/#.\n",
    "\n",
    "&nbsp;&nbsp;&nbsp;&nbsp; This source helped us with our understanding and implementation of Dijkstra’s Algorithm.\n",
    "\n",
    "GeeksforGeeks. “Bellman–Ford Algorithm | DP-23 - GeeksforGeeks.” GeeksforGeeks, Dec. 2012, www.geeksforgeeks.org/bellman-ford-algorithm-dp-23/.\n",
    "\n",
    "&nbsp;&nbsp;&nbsp;&nbsp; This source helped us with our understanding and implementation of the Bellman Ford Algorithm.\n",
    "\n",
    "“Shortest Path with Dijkstra’s Algorithm.” Bradfieldcs.com, bradfieldcs.com/algos/graphs/dijkstras-algorithm/.\n",
    "\n",
    "&nbsp;&nbsp;&nbsp;&nbsp; This source helped us with our understanding and implementation of Dijkstra's Algorithm.\n",
    "    \n",
    "Wikipedia Contributors. “Shortest Path Problem.” Wikipedia, Wikimedia Foundation, 10 Oct. 2019, en.wikipedia.org/wiki/Shortest_path_problem.\n",
    "\n",
    "&nbsp;&nbsp;&nbsp;&nbsp; We used this source as an overall introduction to the topic of shortest path algorithms. It helped us gain a good level of baseline knowledge on the topic before diving into any particular algorithm.\n"
   ]
  }
 ],
 "metadata": {
  "language_info": {
   "name": "python"
  }
 },
 "nbformat": 4,
 "nbformat_minor": 2
}
