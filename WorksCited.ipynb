{
 "cells": [
  {
   "cell_type": "markdown",
   "metadata": {},
   "source": [
    "# Final Project - Short Path Algorithms \n",
    "### Evelyn Kessler, Elin O'Neill, Maya Cranor\n",
    "#### December 12, 2023\n",
    "\n",
    "## Works Cited:\n",
    "\n",
    "Adithjrajeev. “A Comparison of the 3 Shortest Path Algorithms.” Medium, 30 Nov. 2021, medium.com/@adithjrajeev/a-comparison-of-the-3-shortest-path-algorithms-b49f02736901. Accessed 11 Dec. 2023.\n",
    "\n",
    "Belwariar, Rachit . “A* Search Algorithm - GeeksforGeeks.” GeeksforGeeks, 7 Sept. 2018, www.geeksforgeeks.org/a-search-algorithm/ .\n",
    "\n",
    "Chumbley, Alex, et al. “Bellman-Ford Algorithm | Brilliant Math & Science Wiki.” Brilliant.org, 2020, brilliant.org/wiki/bellman-ford-algorithm/.\n",
    "\n",
    "Chumbley, Alex, “Shortest Path Algorithms | Brilliant Math & Science Wiki.” Brilliant.org, 2019, brilliant.org/wiki/shortest-path-algorithms/.\n",
    "\n",
    "“Comparison between Shortest Path Algorithms”: GeeksforGeeks, 13 Oct. 2023, www.geeksforgeeks.org/comparison-between-shortest-path-algorithms/. Accessed 11 Dec. 2023.\n",
    "\n",
    "“Find Shortest Paths from Source to All Vertices Using Dijkstra’s Algorithm.” GeeksforGeeks, 25 Nov. 2012, www.geeksforgeeks.org/dijkstras-shortest-path-algorithm-greedy-algo-7/#.\n",
    "\n",
    "GeeksforGeeks. “Bellman–Ford Algorithm | DP-23 - GeeksforGeeks.” GeeksforGeeks, Dec. 2012, www.geeksforgeeks.org/bellman-ford-algorithm-dp-23/.\n",
    "\n",
    "“Shortest Path with Dijkstra’s Algorithm.” Bradfieldcs.com, bradfieldcs.com/algos/graphs/dijkstras-algorithm/.\n",
    "\n",
    "Wikipedia Contributors. “Shortest Path Problem.” Wikipedia, Wikimedia Foundation, 10 Oct. 2019, en.wikipedia.org/wiki/Shortest_path_problem."
   ]
  }
 ],
 "metadata": {
  "language_info": {
   "name": "python"
  }
 },
 "nbformat": 4,
 "nbformat_minor": 2
}
