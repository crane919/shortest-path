{
 "cells": [
  {
   "cell_type": "markdown",
   "metadata": {},
   "source": [
    "Sources:\n",
    "https://bradfieldcs.com/algos/graphs/dijkstras-algorithm/"
   ]
  },
  {
   "cell_type": "markdown",
   "metadata": {},
   "source": [
    "- Explain what the idea of this algorithm is\n",
    "- Explain the general steps of this algorithm\n",
    "- Say what the time complexity is "
   ]
  },
  {
   "cell_type": "markdown",
   "metadata": {},
   "source": [
    "### Dijkstra's algorithm steps:\n",
    "\n",
    "1. \n",
    "2.\n",
    "3.\n"
   ]
  },
  {
   "cell_type": "code",
   "execution_count": 5,
   "metadata": {},
   "outputs": [
    {
     "name": "stdout",
     "output_type": "stream",
     "text": [
      "Starting Dijkstra's algorithm!\n",
      "Shortest Distance from A to\n",
      "A, 0\n",
      "B, 2.243918\n",
      "C, 6.65902\n",
      "D, 10.507479\n",
      "E, 15.988821\n",
      "F, 11.329626\n",
      "G, 12.693718\n",
      "H, 15.837347\n"
     ]
    }
   ],
   "source": [
    "# code goes here!\n",
    "from heapq import heappop, heappush\n",
    "from math import inf\n",
    "\n",
    "class graph_vertex:\n",
    "  def __init__(self, name, x, y):\n",
    "    self.name = name\n",
    "    self.position = (x, y)\n",
    "\n",
    "a = graph_vertex(\"A\", 28.6448, 77.216721)\n",
    "b = graph_vertex(\"B\", 26.92207, 75.778885)\n",
    "c = graph_vertex(\"C\", 25.321684, 82.987289)\n",
    "d = graph_vertex(\"D\", 19.07283, 72.88261)\n",
    "e = graph_vertex(\"E\", 13.067439, 80.237617)\n",
    "f = graph_vertex(\"F\", 17.387140, 78.491684)\n",
    "g = graph_vertex(\"G\", 22.572645, 88.363892)\n",
    "h = graph_vertex(\"H\", 12.972442, 77.580643)\n",
    "\n",
    "euclidean_graph = {\n",
    "  a: set([(b, 2.243918), (c, 6.65902), (d, 10.507479), (f, 11.329626), (g, 12.693718)]),\n",
    "  b: set([(d, 8.366539), (a, 2.243918)]),\n",
    "  c: set([(a, 6.65902), (d, 11.88077)]),\n",
    "  d: set([(a, 10.507479), (b, 8.366539), (c, 11.88077), (f, 5.856898), (g, 15.87195), (h, 7.699756)]),\n",
    "  e: set([(g, 12.50541), (f, 4.659195), (h, 2.658671)]),\n",
    "  f: set([(a, 11.329626), (d, 5.856898), (e, 4.659195), (h, 4.507721), (g, 11.151231)]),\n",
    "  g: set([(a, 12.693718), (d, 15.87195), (e, 12.50541), (f, 11.151231), (h, 14.437532)]),\n",
    "  h: set([(d, 7.699756), (e, 2.658671), (f, 4.507721), (g, 14.437532)])\n",
    "}\n",
    "\n",
    "def dijkstras(graph, start):\n",
    "  print(\"Starting Dijkstra's algorithm!\")\n",
    "  distances = {}\n",
    "\n",
    "  for vertex in graph:\n",
    "    distances[vertex] = inf\n",
    "  \n",
    "  distances[start] = 0\n",
    "  vertices_to_explore = [(0, start)]\n",
    "\n",
    "  while vertices_to_explore:\n",
    "    current_distance, current_vertex = heappop(vertices_to_explore)\n",
    "    \n",
    "    for neighbor, edge_weight in graph[current_vertex]:\n",
    "      new_distance = current_distance + edge_weight\n",
    "      \n",
    "      if new_distance < distances[neighbor]:\n",
    "        distances[neighbor] = new_distance\n",
    "        heappush(vertices_to_explore, (new_distance, neighbor))\n",
    "    \n",
    "  return distances\n",
    "        \n",
    "distances_from_a = dijkstras(euclidean_graph, a)\n",
    "print(\"Shortest Distance from A to\")\n",
    "for key, value in distances_from_a.items():\n",
    "  print(f\"{key.name}, {value}\")\n"
   ]
  },
  {
   "cell_type": "markdown",
   "metadata": {},
   "source": [
    "## Time Complexity Breakdown\n",
    "\n"
   ]
  }
 ],
 "metadata": {
  "kernelspec": {
   "display_name": "Python 3",
   "language": "python",
   "name": "python3"
  },
  "language_info": {
   "codemirror_mode": {
    "name": "ipython",
    "version": 3
   },
   "file_extension": ".py",
   "mimetype": "text/x-python",
   "name": "python",
   "nbconvert_exporter": "python",
   "pygments_lexer": "ipython3",
   "version": "3.11.6"
  }
 },
 "nbformat": 4,
 "nbformat_minor": 2
}
