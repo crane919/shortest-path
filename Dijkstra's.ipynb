{
 "cells": [
  {
   "cell_type": "markdown",
   "metadata": {},
   "source": [
    "Sources:\n",
    "https://bradfieldcs.com/algos/graphs/dijkstras-algorithm/"
   ]
  },
  {
   "cell_type": "markdown",
   "metadata": {},
   "source": [
    "- Explain what the idea of this algorithm is\n",
    "- Explain the general steps of this algorithm\n",
    "- Say what the time complexity is "
   ]
  },
  {
   "cell_type": "markdown",
   "metadata": {},
   "source": [
    "### Dijkstra's algorithm steps:\n",
    "\n",
    "1. \n",
    "2.\n",
    "3.\n"
   ]
  },
  {
   "cell_type": "code",
   "execution_count": 28,
   "metadata": {},
   "outputs": [
    {
     "name": "stdout",
     "output_type": "stream",
     "text": [
      "Starting Dijkstra's algorithm!\n",
      "This is the shortest path from A to H:\n",
      "['A', 'F', 'H']\n",
      "Shortest Distance from A to\n",
      "A: 0 | Previous node: A\n",
      "B: 2.243918 | Previous node: A\n",
      "C: 6.65902 | Previous node: A\n",
      "D: 10.507479 | Previous node: A\n",
      "E: 15.988821 | Previous node: F\n",
      "F: 11.329626 | Previous node: A\n",
      "G: 12.693718 | Previous node: A\n",
      "H: 15.837347 | Previous node: F\n"
     ]
    }
   ],
   "source": [
    "# code goes here!\n",
    "from heapq import heappop, heappush\n",
    "from math import inf\n",
    "\n",
    "class graph_vertex:\n",
    "  def __init__(self, name, x, y):\n",
    "    self.name = name\n",
    "    self.position = (x, y)\n",
    "\n",
    "# Set up example graph\n",
    "a = graph_vertex(\"A\", 28.6448, 77.216721)\n",
    "b = graph_vertex(\"B\", 26.92207, 75.778885)\n",
    "c = graph_vertex(\"C\", 25.321684, 82.987289)\n",
    "d = graph_vertex(\"D\", 19.07283, 72.88261)\n",
    "e = graph_vertex(\"E\", 13.067439, 80.237617)\n",
    "f = graph_vertex(\"F\", 17.387140, 78.491684)\n",
    "g = graph_vertex(\"G\", 22.572645, 88.363892)\n",
    "h = graph_vertex(\"H\", 12.972442, 77.580643)\n",
    "\n",
    "euclidean_graph = {\n",
    "  a: set([(b, 2.243918), (c, 6.65902), (d, 10.507479), (f, 11.329626), (g, 12.693718)]),\n",
    "  b: set([(d, 8.366539), (a, 2.243918)]),\n",
    "  c: set([(a, 6.65902), (d, 11.88077)]),\n",
    "  d: set([(a, 10.507479), (b, 8.366539), (c, 11.88077), (f, 5.856898), (g, 15.87195), (h, 7.699756)]),\n",
    "  e: set([(g, 12.50541), (f, 4.659195), (h, 2.658671)]),\n",
    "  f: set([(a, 11.329626), (d, 5.856898), (e, 4.659195), (h, 4.507721), (g, 11.151231)]),\n",
    "  g: set([(a, 12.693718), (d, 15.87195), (e, 12.50541), (f, 11.151231), (h, 14.437532)]),\n",
    "  h: set([(d, 7.699756), (e, 2.658671), (f, 4.507721), (g, 14.437532)])\n",
    "}\n",
    "\n",
    "\n",
    "def dijkstras(graph, start):\n",
    "    \"\"\"\n",
    "    Apply Dijkstra's algorithm to find the shortest paths from a starting vertex to all other vertices.\n",
    "\n",
    "    Parameters:\n",
    "    - graph (dict): An adjacency list representation of the graph where keys are vertices, and values are lists of tuples\n",
    "                    representing neighboring vertices and corresponding edge weights.\n",
    "    - start: The starting vertex for Dijkstra's algorithm.\n",
    "\n",
    "    Returns:\n",
    "    - dict: A dictionary containing the shortest distances from the start vertex to all other vertices,\n",
    "            and the predecessors in the shortest paths.\n",
    "    \"\"\"\n",
    "\n",
    "    print(\"Starting Dijkstra's algorithm!\")\n",
    "\n",
    "    # Initialize distances dictionary with infinity for all vertices and None as predecessors\n",
    "    distances = {vertex: [inf, None] for vertex in graph}\n",
    "\n",
    "    # Set the distance to the start vertex as 0\n",
    "    distances[start][0] = 0\n",
    "    distances[start][1] = start\n",
    "\n",
    "    # Initialize the priority queue with the start vertex and its distance\n",
    "    vertices_to_explore = [(0, start)]\n",
    "\n",
    "    # Main loop of Dijkstra's algorithm\n",
    "    while vertices_to_explore:\n",
    "        current_distance, current_vertex = heappop(vertices_to_explore)\n",
    "\n",
    "        # Explore neighbors and update distances and predecessors\n",
    "        for neighbor, edge_weight in graph[current_vertex]:\n",
    "            new_distance = current_distance + edge_weight\n",
    "\n",
    "            # Update if a shorter path is found\n",
    "            if new_distance < distances[neighbor][0]:\n",
    "                distances[neighbor][0] = new_distance\n",
    "                distances[neighbor][1] = current_vertex\n",
    "\n",
    "                # Add the neighbor to the priority queue for further exploration\n",
    "                heappush(vertices_to_explore, (new_distance, neighbor))\n",
    "\n",
    "    return distances\n",
    "\n",
    "        \n",
    "def dijkstras_path(distances, start, target):\n",
    "    \"\"\"\n",
    "    Reconstruct the shortest path from a starting vertex to a target vertex using Dijkstra's algorithm.\n",
    "\n",
    "    Parameters:\n",
    "    - distances (dict): A dictionary containing the shortest distances and predecessors obtained from Dijkstra's algorithm.\n",
    "    - start: The starting vertex of the path.\n",
    "    - target: The target vertex of the path.\n",
    "\n",
    "    Returns:\n",
    "    - list: A list representing the shortest path from the start vertex to the target vertex.\n",
    "    \"\"\"\n",
    "    print(f\"This is the shortest path from {start.name} to {target.name}:\")\n",
    "\n",
    "    # Initialize the path with the target vertex\n",
    "    path = [target.name]\n",
    "\n",
    "    # Trace back the path from the target to the start using predecessors in distances\n",
    "    curr = target\n",
    "    while True:\n",
    "        curr = distances[curr][1]  # Move to the predecessor\n",
    "        path = [curr.name] + path  # Add the current vertex to the path\n",
    "        if curr.name == start.name:  # Break the loop when the start vertex is reached\n",
    "            break\n",
    "    return path\n",
    "\n",
    "\n",
    "distances_from_a = dijkstras(euclidean_graph, a)\n",
    "print(dijkstras_path(distances_from_a, a, h))\n",
    "print(\"Shortest Distance from A to\")\n",
    "for key, value in distances_from_a.items():\n",
    "  print(f\"{key.name}: {value[0]} | Previous node: {value[1].name}\")\n"
   ]
  },
  {
   "cell_type": "markdown",
   "metadata": {},
   "source": [
    "## Time Complexity Breakdown\n",
    "\n"
   ]
  }
 ],
 "metadata": {
  "kernelspec": {
   "display_name": "Python 3",
   "language": "python",
   "name": "python3"
  },
  "language_info": {
   "codemirror_mode": {
    "name": "ipython",
    "version": 3
   },
   "file_extension": ".py",
   "mimetype": "text/x-python",
   "name": "python",
   "nbconvert_exporter": "python",
   "pygments_lexer": "ipython3",
   "version": "3.11.4"
  }
 },
 "nbformat": 4,
 "nbformat_minor": 2
}
