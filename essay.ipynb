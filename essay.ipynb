{
 "cells": [
  {
   "cell_type": "markdown",
   "metadata": {},
   "source": [
    "# Final Project - Short Path Algorithms \n",
    "### Evelyn Kessler, Elin O'Neill, Maya Cranor\n",
    "#### December ??, 2023\n",
    "\n",
    "Notes\n",
    "\n",
    "Algorithms\n",
    "- Brute Force? (dfs or bfs)\n",
    "- Dijkstra's algorithm\n",
    "- A* search algorithm \n",
    "- Bellman–Ford algorithm\n",
    "- Johnson-Dijkstra ?\n",
    "\n",
    "Okay we should def write up the first three/four of those. Dijkstra chances optimization depending on the data structure being used. I'm uncertain if that is true for the other ones. \n",
    "\n",
    "Class\n",
    "\n",
    "- We get 11 minutes for our talk\n",
    "- Sarah will be timing it and she wants it to be pretty close\n",
    "- Expects us to rehearse it and it to be polished\n",
    "- Presentation should teach not intimidate"
   ]
  },
  {
   "cell_type": "markdown",
   "metadata": {},
   "source": [
    "## Intro Outline!\n",
    "\n",
    "Can def write out the first bullet points, and a little bit of the fifth one, but not totally sure about the last one\n",
    "\n",
    "Shortest path algorithms involve finding the most efficient route between two points in a graph. These algorithms aim to navigate the graph with the fewest steps or the lowest cumulative weight between the specified points. Different shortest path algorithms can handle different graphs types, for example directed graphs, undirected graphs, and graphs with negative weights. The process of determining the shortest path in a graph is crucial for various applications, such as network routing, transportation planning, and resource optimization. The efficiency of these algorithms is essential in diverse fields, including logistics, computer networking, and urban planning.\n",
    "\n",
    "- Give an application or two of a shortest path algorithm\n",
    "- Explain the complexity of this problem (looks like it is NP hard but should do more research into it cause I think it depends a bit on the type of problem)\n",
    "- Put some pretty pictures in here somewhere\n",
    "- Give an overview  of the algorithms we are looking into\n",
    "- Whatever addition we are doing for this project, like creating an algorithm for getting your steps in... i don't quite remember...\n",
    "\n"
   ]
  },
  {
   "cell_type": "markdown",
   "metadata": {},
   "source": [
    "## Sources\n",
    "\n",
    "https://www.geeksforgeeks.org/comparison-between-shortest-path-algorithms/\n",
    "\n",
    "https://en.wikipedia.org/wiki/Shortest_path_problem\n",
    "\n",
    "https://brilliant.org/wiki/shortest-path-algorithms/"
   ]
  }
 ],
 "metadata": {
  "language_info": {
   "name": "python"
  }
 },
 "nbformat": 4,
 "nbformat_minor": 2
}
